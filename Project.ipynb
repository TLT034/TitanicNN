{
  "nbformat": 4,
  "nbformat_minor": 0,
  "metadata": {
    "colab": {
      "name": "Project.ipynb",
      "provenance": [],
      "collapsed_sections": [],
      "toc_visible": true
    },
    "kernelspec": {
      "name": "python3",
      "display_name": "Python 3"
    }
  },
  "cells": [
    {
      "cell_type": "markdown",
      "metadata": {
        "id": "29ywZQzp4I7q"
      },
      "source": [
        "# CS5665 Project | Titanic\n",
        "**Tristan Thomas | A01866929**"
      ]
    },
    {
      "cell_type": "markdown",
      "metadata": {
        "id": "OuPGr2kzt36i"
      },
      "source": [
        "First, import the data and packages."
      ]
    },
    {
      "cell_type": "code",
      "metadata": {
        "id": "j9Ro1Cuh38dM"
      },
      "source": [
        " import numpy as np\n",
        " import pandas as pd\n",
        "\n",
        " from sklearn.preprocessing import StandardScaler\n",
        " from sklearn.model_selection import train_test_split\n",
        " from sklearn.linear_model import LogisticRegression\n",
        " from sklearn.metrics import accuracy_score\n",
        "\n",
        " train_data = pd.read_csv(\"train.csv\")\n",
        "#  train_data.head()\n",
        "\n",
        "test_data = pd.read_csv(\"test.csv\")\n",
        "# test_data.head()"
      ],
      "execution_count": 336,
      "outputs": []
    },
    {
      "cell_type": "markdown",
      "metadata": {
        "id": "R0Je2R8Bt7OW"
      },
      "source": [
        "###Preprocessing / Classification"
      ]
    },
    {
      "cell_type": "code",
      "metadata": {
        "id": "nr5Gz3HKt8pX",
        "colab": {
          "base_uri": "https://localhost:8080/",
          "height": 204
        },
        "outputId": "6655aa5d-4cc7-4716-b65a-60ea39c54989"
      },
      "source": [
        "# get rid of duplicate data\n",
        "train_data = train_data.drop_duplicates(keep=False)\n",
        "test_data = test_data.drop_duplicates(keep=False)\n",
        "\n",
        "# fill NaN values with median/mode\n",
        "processed_train_data = train_data.copy()\n",
        "processed_train_data[\"Age\"].fillna(train_data[\"Age\"].median(skipna=True), inplace=True)\n",
        "processed_train_data[\"Embarked\"].fillna(train_data['Embarked'].value_counts().idxmax(), inplace=True)\n",
        "processed_test_data = test_data.copy()\n",
        "processed_test_data[\"Age\"].fillna(test_data[\"Age\"].median(skipna=True), inplace=True)\n",
        "processed_test_data[\"Embarked\"].fillna(test_data['Embarked'].value_counts().idxmax(), inplace=True)\n",
        "# for some reason the test data had 1 'Fare' with NaN value\n",
        "processed_test_data[\"Fare\"].fillna(test_data[\"Fare\"].median(skipna=True), inplace=True)\n",
        "\n",
        "# features - get rid of values that don't affect the outcome, or don't have enough data\n",
        "features = processed_train_data.drop(['PassengerId','Survived','Name','Ticket','Cabin'],axis=1)\n",
        "test_features = processed_test_data.drop(['PassengerId','Name','Ticket','Cabin'],axis=1)\n",
        "\n",
        "# categorical variables\n",
        "features = pd.get_dummies(features, columns=['Sex', 'Embarked'])\n",
        "test_features = pd.get_dummies(test_features, columns=['Sex', 'Embarked'])\n",
        "\n",
        "# label\n",
        "y = processed_train_data['Survived']\n",
        "\n",
        "# scale data\n",
        "x_train = StandardScaler().fit_transform(features)\n",
        "\n",
        "# used to evaluate model\n",
        "x_train,x_test,y_train,y_test = train_test_split(x_train, y, test_size=0.25)\n",
        "\n",
        "features.head()"
      ],
      "execution_count": 337,
      "outputs": [
        {
          "output_type": "execute_result",
          "data": {
            "text/html": [
              "<div>\n",
              "<style scoped>\n",
              "    .dataframe tbody tr th:only-of-type {\n",
              "        vertical-align: middle;\n",
              "    }\n",
              "\n",
              "    .dataframe tbody tr th {\n",
              "        vertical-align: top;\n",
              "    }\n",
              "\n",
              "    .dataframe thead th {\n",
              "        text-align: right;\n",
              "    }\n",
              "</style>\n",
              "<table border=\"1\" class=\"dataframe\">\n",
              "  <thead>\n",
              "    <tr style=\"text-align: right;\">\n",
              "      <th></th>\n",
              "      <th>Pclass</th>\n",
              "      <th>Age</th>\n",
              "      <th>SibSp</th>\n",
              "      <th>Parch</th>\n",
              "      <th>Fare</th>\n",
              "      <th>Sex_female</th>\n",
              "      <th>Sex_male</th>\n",
              "      <th>Embarked_C</th>\n",
              "      <th>Embarked_Q</th>\n",
              "      <th>Embarked_S</th>\n",
              "    </tr>\n",
              "  </thead>\n",
              "  <tbody>\n",
              "    <tr>\n",
              "      <th>0</th>\n",
              "      <td>3</td>\n",
              "      <td>22.0</td>\n",
              "      <td>1</td>\n",
              "      <td>0</td>\n",
              "      <td>7.2500</td>\n",
              "      <td>0</td>\n",
              "      <td>1</td>\n",
              "      <td>0</td>\n",
              "      <td>0</td>\n",
              "      <td>1</td>\n",
              "    </tr>\n",
              "    <tr>\n",
              "      <th>1</th>\n",
              "      <td>1</td>\n",
              "      <td>38.0</td>\n",
              "      <td>1</td>\n",
              "      <td>0</td>\n",
              "      <td>71.2833</td>\n",
              "      <td>1</td>\n",
              "      <td>0</td>\n",
              "      <td>1</td>\n",
              "      <td>0</td>\n",
              "      <td>0</td>\n",
              "    </tr>\n",
              "    <tr>\n",
              "      <th>2</th>\n",
              "      <td>3</td>\n",
              "      <td>26.0</td>\n",
              "      <td>0</td>\n",
              "      <td>0</td>\n",
              "      <td>7.9250</td>\n",
              "      <td>1</td>\n",
              "      <td>0</td>\n",
              "      <td>0</td>\n",
              "      <td>0</td>\n",
              "      <td>1</td>\n",
              "    </tr>\n",
              "    <tr>\n",
              "      <th>3</th>\n",
              "      <td>1</td>\n",
              "      <td>35.0</td>\n",
              "      <td>1</td>\n",
              "      <td>0</td>\n",
              "      <td>53.1000</td>\n",
              "      <td>1</td>\n",
              "      <td>0</td>\n",
              "      <td>0</td>\n",
              "      <td>0</td>\n",
              "      <td>1</td>\n",
              "    </tr>\n",
              "    <tr>\n",
              "      <th>4</th>\n",
              "      <td>3</td>\n",
              "      <td>35.0</td>\n",
              "      <td>0</td>\n",
              "      <td>0</td>\n",
              "      <td>8.0500</td>\n",
              "      <td>0</td>\n",
              "      <td>1</td>\n",
              "      <td>0</td>\n",
              "      <td>0</td>\n",
              "      <td>1</td>\n",
              "    </tr>\n",
              "  </tbody>\n",
              "</table>\n",
              "</div>"
            ],
            "text/plain": [
              "   Pclass   Age  SibSp  Parch  ...  Sex_male  Embarked_C  Embarked_Q  Embarked_S\n",
              "0       3  22.0      1      0  ...         1           0           0           1\n",
              "1       1  38.0      1      0  ...         0           1           0           0\n",
              "2       3  26.0      0      0  ...         0           0           0           1\n",
              "3       1  35.0      1      0  ...         0           0           0           1\n",
              "4       3  35.0      0      0  ...         1           0           0           1\n",
              "\n",
              "[5 rows x 10 columns]"
            ]
          },
          "metadata": {
            "tags": []
          },
          "execution_count": 337
        }
      ]
    },
    {
      "cell_type": "markdown",
      "metadata": {
        "id": "6CtkSAZ73dsF"
      },
      "source": [
        "##Logistic Regression\n",
        "\n",
        "Create and evaluate logistic regression model"
      ]
    },
    {
      "cell_type": "code",
      "metadata": {
        "colab": {
          "base_uri": "https://localhost:8080/"
        },
        "id": "weBBAEtE3mUb",
        "outputId": "5f367c56-9f95-4820-c585-e55f27cc6174"
      },
      "source": [
        "log_reg = LogisticRegression()\n",
        "log_reg.fit(x_train, y_train)\n",
        "y_pred = log_reg.predict(x_test)\n",
        "print(f\"Test accuracy: {accuracy_score(y_test, y_pred)}\")"
      ],
      "execution_count": 338,
      "outputs": [
        {
          "output_type": "stream",
          "text": [
            "Test accuracy: 0.8116591928251121\n"
          ],
          "name": "stdout"
        }
      ]
    },
    {
      "cell_type": "markdown",
      "metadata": {
        "id": "hirq3UpJU3F-"
      },
      "source": [
        "###Predict (LR)\n",
        "\n",
        "Run LR model with test data and create submission csv file."
      ]
    },
    {
      "cell_type": "code",
      "metadata": {
        "id": "SuFN-C2RU-FH"
      },
      "source": [
        "# run LR model over test data and get list of survivors\n",
        "survive_list = log_reg.predict(test_features)\n",
        "id_list = test_data['PassengerId']\n",
        "\n",
        "# create dictionary to store id list and survivor list\n",
        "submission_dict = { 'PassengerId': id_list, 'Survived': survive_list}\n",
        "# convert to pandas Data Frame\n",
        "LR_submission_csv = pd.DataFrame(submission_dict)\n",
        "\n",
        "# create submission csv file\n",
        "LR_submission_csv.to_csv('LR_submission.csv', index=False)"
      ],
      "execution_count": 339,
      "outputs": []
    },
    {
      "cell_type": "markdown",
      "metadata": {
        "id": "DAqOYhuQZZzr"
      },
      "source": [
        "###Kaggle Score: ~0.65"
      ]
    },
    {
      "cell_type": "markdown",
      "metadata": {
        "id": "Nk96ZShuM5s2"
      },
      "source": [
        "##Neural Network\n",
        "Improve results by using a Neural Network model."
      ]
    },
    {
      "cell_type": "markdown",
      "metadata": {
        "id": "gG1eN-8oDLqc"
      },
      "source": [
        "Split dev, train, and test for cross-validation purposes."
      ]
    },
    {
      "cell_type": "code",
      "metadata": {
        "id": "EEU_VgWdDjlj"
      },
      "source": [
        "import torch\n",
        "\n",
        "msk = np.random.randn(len(features)) < 0.8\n",
        "\n",
        "training_features = torch.tensor(features[msk].values.astype('float32'))\n",
        "dev_features = torch.tensor(features[~msk].values.astype('float32'))\n",
        "\n",
        "training_labels = torch.tensor(y[msk].values)\n",
        "dev_labels = torch.tensor(y[~msk].values)\n",
        "\n",
        "test_features = torch.tensor(test_features.values.astype('float32'))"
      ],
      "execution_count": 340,
      "outputs": []
    },
    {
      "cell_type": "markdown",
      "metadata": {
        "id": "Z1snpHq0bsLz"
      },
      "source": [
        "Create Neural Network as a class"
      ]
    },
    {
      "cell_type": "code",
      "metadata": {
        "id": "nVbqSTG_N5b3"
      },
      "source": [
        "from torch import nn\n",
        "\n",
        "class Net(nn.Module):\n",
        "    \n",
        "    def __init__(self):\n",
        "        super(Net, self).__init__()\n",
        "        self.step1 = nn.Linear(10, 5)\n",
        "        self.step2 = nn.Linear(5, 5)\n",
        "        self.step3 = nn.Linear(5, 2)\n",
        "        \n",
        "    def forward(self, x):\n",
        "        x = self.step1(x)\n",
        "        x = nn.functional.relu(x)\n",
        "        x = nn.functional.dropout(x, p=0.2)\n",
        "        x = self.step2(x)\n",
        "        x = nn.functional.relu(x)\n",
        "        x = nn.functional.dropout(x, p=0.1)\n",
        "        x = self.step3(x)\n",
        "        x = nn.functional.log_softmax(x, dim=1)\n",
        "        \n",
        "        return x\n",
        "    \n",
        "net = Net()"
      ],
      "execution_count": 341,
      "outputs": []
    },
    {
      "cell_type": "markdown",
      "metadata": {
        "id": "gfxzUDsGb3vK"
      },
      "source": [
        "Hyper Parameters"
      ]
    },
    {
      "cell_type": "code",
      "metadata": {
        "id": "yyAjsKNNb8yT"
      },
      "source": [
        "num_epochs = 500\n",
        "learning_rate = 0.012\n",
        "\n",
        "# using cross entropy loss and adam optimizer\n",
        "criterion = nn.CrossEntropyLoss()\n",
        "optimizer = torch.optim.Adam(net.parameters(), lr=learning_rate)"
      ],
      "execution_count": 342,
      "outputs": []
    },
    {
      "cell_type": "markdown",
      "metadata": {
        "id": "tZa9VBnNcmBA"
      },
      "source": [
        "###Train and Evaluate\n",
        "Helper function for loss"
      ]
    },
    {
      "cell_type": "code",
      "metadata": {
        "id": "2b_euEZNPHIH"
      },
      "source": [
        "def evaluate(net, test_features, test_labels=None, print_acc_and_cost = False, testing = False):\n",
        "    with torch.no_grad():\n",
        "        test_loss = 0\n",
        "        log_preds = net(test_features)\n",
        "        preds = torch.exp(log_preds)\n",
        "        preds, survived = torch.max(preds, 1)\n",
        "        if(testing):\n",
        "            loss = criterion(log_preds,test_labels)\n",
        "            equals = survived==test_labels.view(*survived.shape)\n",
        "            accuracy = torch.mean(equals.type(torch.FloatTensor))\n",
        "            test_loss += loss.item()\n",
        "            if(print_acc_and_cost):\n",
        "                print(f'Testing accuracy : {accuracy*100:.3f}%')\n",
        "                print(f'Testing Loss : {test_loss:.3f}')\n",
        "            return test_loss\n",
        "        else:\n",
        "            return survived"
      ],
      "execution_count": 343,
      "outputs": []
    },
    {
      "cell_type": "markdown",
      "metadata": {
        "id": "zoRIprsNPFsd"
      },
      "source": [
        "Train and evaluate NN model"
      ]
    },
    {
      "cell_type": "code",
      "metadata": {
        "colab": {
          "base_uri": "https://localhost:8080/"
        },
        "id": "0WGlJ4_Ncqdo",
        "outputId": "3931b658-3774-4f5d-fb13-40dfd7e29029"
      },
      "source": [
        "import matplotlib as mpl\n",
        "\n",
        "steps = 0\n",
        "training_losses,testing_losses = [],[]\n",
        "for e in range(num_epochs):\n",
        "    running_loss = 0\n",
        "    optimizer.zero_grad()\n",
        "    \n",
        "    yhat = net(training_features)\n",
        "    loss = criterion(yhat, training_labels)\n",
        "    \n",
        "    loss.backward()\n",
        "    outputs = torch.exp(yhat)\n",
        "    \n",
        "    optimizer.step()\n",
        "    steps += 1\n",
        "    running_loss += loss.item()\n",
        "    training_losses.append(running_loss)\n",
        "    if(steps%50==0):\n",
        "        with torch.no_grad():\n",
        "            print(f'Epoch : {e+1}/{num_epochs}...')\n",
        "            testing_losses.append(evaluate(net, dev_features, test_labels = dev_labels, print_acc_and_cost=True, testing = True))\n",
        "        print(f'Training loss {running_loss:.3f}\\n')\n",
        "    else:\n",
        "        with torch.no_grad():\n",
        "            testing_losses.append(evaluate(net, dev_features, test_labels = dev_labels, print_acc_and_cost=False, testing = True))\n"
      ],
      "execution_count": 344,
      "outputs": [
        {
          "output_type": "stream",
          "text": [
            "Epoch : 50/500...\n",
            "Testing accuracy : 69.756%\n",
            "Testing Loss : 0.604\n",
            "Training loss 0.620\n",
            "\n",
            "Epoch : 100/500...\n",
            "Testing accuracy : 72.195%\n",
            "Testing Loss : 0.550\n",
            "Training loss 0.538\n",
            "\n",
            "Epoch : 150/500...\n",
            "Testing accuracy : 78.537%\n",
            "Testing Loss : 0.489\n",
            "Training loss 0.492\n",
            "\n",
            "Epoch : 200/500...\n",
            "Testing accuracy : 82.927%\n",
            "Testing Loss : 0.425\n",
            "Training loss 0.488\n",
            "\n",
            "Epoch : 250/500...\n",
            "Testing accuracy : 80.000%\n",
            "Testing Loss : 0.431\n",
            "Training loss 0.461\n",
            "\n",
            "Epoch : 300/500...\n",
            "Testing accuracy : 79.512%\n",
            "Testing Loss : 0.457\n",
            "Training loss 0.449\n",
            "\n",
            "Epoch : 350/500...\n",
            "Testing accuracy : 80.488%\n",
            "Testing Loss : 0.445\n",
            "Training loss 0.462\n",
            "\n",
            "Epoch : 400/500...\n",
            "Testing accuracy : 82.927%\n",
            "Testing Loss : 0.420\n",
            "Training loss 0.449\n",
            "\n",
            "Epoch : 450/500...\n",
            "Testing accuracy : 82.439%\n",
            "Testing Loss : 0.420\n",
            "Training loss 0.452\n",
            "\n",
            "Epoch : 500/500...\n",
            "Testing accuracy : 82.927%\n",
            "Testing Loss : 0.425\n",
            "Training loss 0.441\n",
            "\n"
          ],
          "name": "stdout"
        }
      ]
    },
    {
      "cell_type": "markdown",
      "metadata": {
        "id": "_k30-O24YDkW"
      },
      "source": [
        "Plot test/train loss"
      ]
    },
    {
      "cell_type": "code",
      "metadata": {
        "colab": {
          "base_uri": "https://localhost:8080/",
          "height": 327
        },
        "id": "8VJZvpAvYHcb",
        "outputId": "3585e7bd-47dd-4d94-feeb-ca645031685a"
      },
      "source": [
        "mpl.pyplot.plot(training_losses,label='Training loss')\n",
        "mpl.pyplot.plot(testing_losses, label='Testing loss')\n",
        "mpl.pyplot.xlabel(\"Epochs\")\n",
        "mpl.pyplot.ylabel(\"Loss\")\n",
        "mpl.pyplot.title(\"Test/Train Loss\\n\")\n",
        "mpl.pyplot.legend(frameon = False)"
      ],
      "execution_count": 345,
      "outputs": [
        {
          "output_type": "execute_result",
          "data": {
            "text/plain": [
              "<matplotlib.legend.Legend at 0x7fe0eac2d6a0>"
            ]
          },
          "metadata": {
            "tags": []
          },
          "execution_count": 345
        },
        {
          "output_type": "display_data",
          "data": {
            "image/png": "[encoded data removed]",
            "text/plain": [
              "<Figure size 432x288 with 1 Axes>"
            ]
          },
          "metadata": {
            "tags": [],
            "needs_background": "light"
          }
        }
      ]
    },
    {
      "cell_type": "markdown",
      "metadata": {
        "id": "kM9VKaDxeBAH"
      },
      "source": [
        "###Predict (NN)\n",
        "Run Net model with test data and create submission csv file."
      ]
    },
    {
      "cell_type": "code",
      "metadata": {
        "id": "gXTP3UgRebT9"
      },
      "source": [
        "# run NN model over test data and get list of survivors\n",
        "survive_list = evaluate(net, test_features)\n",
        "id_list = test_data['PassengerId']\n",
        "\n",
        "# create dictionary to store id list and survivor list\n",
        "submission_dict = { 'PassengerId': id_list, 'Survived': survive_list}\n",
        "# convert to pandas Data Frame\n",
        "NN_submission_csv = pd.DataFrame(submission_dict)\n",
        "\n",
        "# create submission csv file\n",
        "NN_submission_csv.to_csv('NN_submission.csv', index=False)"
      ],
      "execution_count": 346,
      "outputs": []
    },
    {
      "cell_type": "markdown",
      "metadata": {
        "id": "orNjEd7oZM8Z"
      },
      "source": [
        "###Kaggle Score: ~0.78\n"
      ]
    }
  ]
}